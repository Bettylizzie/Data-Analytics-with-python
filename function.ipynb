{
 "cells": [
  {
   "cell_type": "code",
   "execution_count": 1,
   "id": "22168883-f60a-4104-ac2a-79f29b591d95",
   "metadata": {},
   "outputs": [
    {
     "name": "stdout",
     "output_type": "stream",
     "text": [
      "family members\n"
     ]
    }
   ],
   "source": [
    "def family():\n",
    "    print(\"family members\")\n",
    "\n",
    "family()"
   ]
  },
  {
   "cell_type": "code",
   "execution_count": 2,
   "id": "8d26c303-68cb-4241-8294-617433ffb264",
   "metadata": {},
   "outputs": [
    {
     "name": "stdout",
     "output_type": "stream",
     "text": [
      "ruto must go\n"
     ]
    }
   ],
   "source": [
    "def GenZ():\n",
    "    print (\"ruto must go\")\n",
    "GenZ()"
   ]
  },
  {
   "cell_type": "code",
   "execution_count": 7,
   "id": "297928a3-7f56-4de4-9fd4-ee2a341c3b4a",
   "metadata": {},
   "outputs": [
    {
     "name": "stdout",
     "output_type": "stream",
     "text": [
      "12.8\n"
     ]
    }
   ],
   "source": [
    "def sum(a,b):\n",
    "    result=a+b\n",
    "    return result\n",
    "\n",
    "x= add(6,6.8)\n",
    "print(x)"
   ]
  },
  {
   "cell_type": "code",
   "execution_count": 9,
   "id": "b76bb253-b7a7-42df-ad5b-41bd4cdd3626",
   "metadata": {},
   "outputs": [
    {
     "data": {
      "text/plain": [
       "6"
      ]
     },
     "execution_count": 9,
     "metadata": {},
     "output_type": "execute_result"
    }
   ],
   "source": [
    "max(4,3,6)"
   ]
  },
  {
   "cell_type": "code",
   "execution_count": 10,
   "id": "48b9f904-a5ae-4d4a-b15d-cdffde583763",
   "metadata": {},
   "outputs": [
    {
     "data": {
      "text/plain": [
       "9"
      ]
     },
     "execution_count": 10,
     "metadata": {},
     "output_type": "execute_result"
    }
   ],
   "source": [
    "len('Betty liz')"
   ]
  },
  {
   "cell_type": "code",
   "execution_count": null,
   "id": "498eb9c5-d0ea-49bd-a0a0-5615a845e04b",
   "metadata": {},
   "outputs": [],
   "source": []
  }
 ],
 "metadata": {
  "kernelspec": {
   "display_name": "Python 3 (ipykernel)",
   "language": "python",
   "name": "python3"
  },
  "language_info": {
   "codemirror_mode": {
    "name": "ipython",
    "version": 3
   },
   "file_extension": ".py",
   "mimetype": "text/x-python",
   "name": "python",
   "nbconvert_exporter": "python",
   "pygments_lexer": "ipython3",
   "version": "3.12.4"
  }
 },
 "nbformat": 4,
 "nbformat_minor": 5
}
