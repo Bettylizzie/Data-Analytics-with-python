{
 "cells": [
  {
   "cell_type": "markdown",
   "id": "7b9da59d-9371-4e2b-bef5-1572c4888cde",
   "metadata": {},
   "source": [
    "# Lists:\n",
    "\n",
    "Write a Python program to create a list of your favorite fruits and print the list."
   ]
  },
  {
   "cell_type": "code",
   "execution_count": 3,
   "id": "559eee6f-81e4-4fbf-a99f-93f835e6dbd9",
   "metadata": {},
   "outputs": [],
   "source": [
    "Fruits=['Mango','Banana','Grapes','Orange']"
   ]
  },
  {
   "cell_type": "code",
   "execution_count": 5,
   "id": "bb2c911c-ecb2-4025-b23e-030e0485c08b",
   "metadata": {},
   "outputs": [
    {
     "data": {
      "text/plain": [
       "['Mango', 'Banana', 'Grapes', 'Orange']"
      ]
     },
     "execution_count": 5,
     "metadata": {},
     "output_type": "execute_result"
    }
   ],
   "source": [
    "Fruits"
   ]
  },
  {
   "cell_type": "markdown",
   "id": "09869f01-b229-4d37-9d6a-7ca44a1becfa",
   "metadata": {},
   "source": [
    "Write a Python function that takes a list of numbers and returns a new list with each number squared."
   ]
  },
  {
   "cell_type": "code",
   "execution_count": 21,
   "id": "41a438a5-737d-4de6-9c87-3a178d166cd4",
   "metadata": {},
   "outputs": [
    {
     "name": "stdout",
     "output_type": "stream",
     "text": [
      "[1, 4, 9, 16, 25]\n"
     ]
    }
   ],
   "source": [
    "def square_numbers(numbers):\n",
    "    squared_numbers = []  # Step 2\n",
    "    for num in numbers:  # Step 3\n",
    "        squared_numbers.append(num**2)  # Step 4\n",
    "    return squared_numbers  # Step 5\n",
    "\n",
    "# Example usage\n",
    "numbers = [1, 2, 3, 4, 5]\n",
    "squared = square_numbers(numbers)\n",
    "print(squared)"
   ]
  },
  {
   "cell_type": "markdown",
   "id": "d0fcb9bb-0c03-47ec-8faa-a0e74473085c",
   "metadata": {},
   "source": [
    "How would you remove the third item from a list in Python? Write the code to demonstrate this."
   ]
  },
  {
   "cell_type": "code",
   "execution_count": 25,
   "id": "c154cb3b-e80d-461c-89b8-9e2b3e0cbbb8",
   "metadata": {},
   "outputs": [],
   "source": [
    "my_list=[2,4,6,8,10]"
   ]
  },
  {
   "cell_type": "code",
   "execution_count": 27,
   "id": "e8b660b1-de61-41ef-8af9-8904d5823f1b",
   "metadata": {},
   "outputs": [
    {
     "data": {
      "text/plain": [
       "[2, 4, 6, 8, 10]"
      ]
     },
     "execution_count": 27,
     "metadata": {},
     "output_type": "execute_result"
    }
   ],
   "source": [
    "my_list"
   ]
  },
  {
   "cell_type": "code",
   "execution_count": 33,
   "id": "6edf3e62-f157-47aa-a2f4-968e75c39baa",
   "metadata": {},
   "outputs": [],
   "source": [
    "my_list.remove(6) "
   ]
  },
  {
   "cell_type": "code",
   "execution_count": 35,
   "id": "9b1505f7-ba1f-4e3b-8dfb-186a9941902b",
   "metadata": {},
   "outputs": [
    {
     "data": {
      "text/plain": [
       "[2, 4, 8, 10]"
      ]
     },
     "execution_count": 35,
     "metadata": {},
     "output_type": "execute_result"
    }
   ],
   "source": [
    "my_list"
   ]
  },
  {
   "cell_type": "code",
   "execution_count": 39,
   "id": "6ec0f7a3-2422-4303-a42f-d765a9ca9b16",
   "metadata": {},
   "outputs": [
    {
     "name": "stdout",
     "output_type": "stream",
     "text": [
      "[1, 4, 9, 16]\n"
     ]
    }
   ],
   "source": [
    "def squered_numbers(numbers):\n",
    "    squered_numbers = []\n",
    "    for num in numbers:\n",
    "        squered_numbers.append(num**2)\n",
    "    return squered_numbers\n",
    "\n",
    "numbers=[1,2,3,4]\n",
    "squered=squered_numbers(numbers)\n",
    "print(squered)"
   ]
  },
  {
   "cell_type": "markdown",
   "id": "1edb2ead-29bc-47af-82f9-001e4629cecb",
   "metadata": {},
   "source": [
    "# DICTIONARY"
   ]
  },
  {
   "cell_type": "markdown",
   "id": "85e668c4-ea62-4baf-a310-840cc82c8b87",
   "metadata": {},
   "source": [
    "Create a dictionary to store the names and ages of three people. Write a program to print out each person’s name and age."
   ]
  },
  {
   "cell_type": "code",
   "execution_count": 54,
   "id": "5ba0e1bb-d070-449f-8a61-0e5254a2b330",
   "metadata": {},
   "outputs": [],
   "source": [
    "my_dict={ \"Name\":['mercy','Ben','Timothy'],\n",
    "         \"Age\":[21,20,19]\n",
    "        }"
   ]
  },
  {
   "cell_type": "code",
   "execution_count": 60,
   "id": "0ffd66ef-cdc6-473b-8a36-4c883be66d3d",
   "metadata": {},
   "outputs": [
    {
     "data": {
      "text/plain": [
       "{'Name': ['mercy', 'Ben', 'Timothy'], 'Age': [21, 20, 19]}"
      ]
     },
     "execution_count": 60,
     "metadata": {},
     "output_type": "execute_result"
    }
   ],
   "source": [
    "my_dict"
   ]
  },
  {
   "cell_type": "code",
   "execution_count": 66,
   "id": "c37602e2-8d0f-4905-9974-e6d07cff3513",
   "metadata": {},
   "outputs": [],
   "source": [
    "df=pd.DataFrame(my_dict)"
   ]
  },
  {
   "cell_type": "code",
   "execution_count": 64,
   "id": "1268fa91-05c0-474a-a639-4a4ed379bd8f",
   "metadata": {},
   "outputs": [],
   "source": [
    "import pandas as pd"
   ]
  },
  {
   "cell_type": "code",
   "execution_count": 68,
   "id": "b1907002-a131-4f4e-95b0-6bc916f4fd28",
   "metadata": {},
   "outputs": [
    {
     "data": {
      "text/html": [
       "<div>\n",
       "<style scoped>\n",
       "    .dataframe tbody tr th:only-of-type {\n",
       "        vertical-align: middle;\n",
       "    }\n",
       "\n",
       "    .dataframe tbody tr th {\n",
       "        vertical-align: top;\n",
       "    }\n",
       "\n",
       "    .dataframe thead th {\n",
       "        text-align: right;\n",
       "    }\n",
       "</style>\n",
       "<table border=\"1\" class=\"dataframe\">\n",
       "  <thead>\n",
       "    <tr style=\"text-align: right;\">\n",
       "      <th></th>\n",
       "      <th>Name</th>\n",
       "      <th>Age</th>\n",
       "    </tr>\n",
       "  </thead>\n",
       "  <tbody>\n",
       "    <tr>\n",
       "      <th>0</th>\n",
       "      <td>mercy</td>\n",
       "      <td>21</td>\n",
       "    </tr>\n",
       "    <tr>\n",
       "      <th>1</th>\n",
       "      <td>Ben</td>\n",
       "      <td>20</td>\n",
       "    </tr>\n",
       "    <tr>\n",
       "      <th>2</th>\n",
       "      <td>Timothy</td>\n",
       "      <td>19</td>\n",
       "    </tr>\n",
       "  </tbody>\n",
       "</table>\n",
       "</div>"
      ],
      "text/plain": [
       "      Name  Age\n",
       "0    mercy   21\n",
       "1      Ben   20\n",
       "2  Timothy   19"
      ]
     },
     "execution_count": 68,
     "metadata": {},
     "output_type": "execute_result"
    }
   ],
   "source": [
    "df"
   ]
  },
  {
   "cell_type": "markdown",
   "id": "ecdaca39-e349-43e1-92ce-dd9e6eefbd9b",
   "metadata": {},
   "source": [
    "Write a Python function that takes a dictionary and returns a list of all the keys in the dictionary."
   ]
  },
  {
   "cell_type": "code",
   "execution_count": 77,
   "id": "dd29bf2e-a178-4e20-9ba5-db3502365265",
   "metadata": {},
   "outputs": [
    {
     "name": "stdout",
     "output_type": "stream",
     "text": [
      "['name', 'age', 'city']\n"
     ]
    }
   ],
   "source": [
    "def dict_keys(dictionary):\n",
    "    return list(dictionary.keys())\n",
    "my_dict = {'name': 'John', 'age': 30, 'city': 'New York'}\n",
    "keys_list= dict_keys(my_dict)\n",
    "print (keys_list)"
   ]
  },
  {
   "cell_type": "markdown",
   "id": "da4cda02-0a19-461e-b0b2-dc1e49280fbc",
   "metadata": {},
   "source": [
    "How can you update the value associated with a key in a dictionary? Write a code example."
   ]
  },
  {
   "cell_type": "code",
   "execution_count": 99,
   "id": "306c5541-b11a-4043-94e9-c4aa40b85ea7",
   "metadata": {},
   "outputs": [],
   "source": [
    "#for question 1 in dictionary\n",
    "df[\"Age\"]=df[\"Age\"]+1"
   ]
  },
  {
   "cell_type": "code",
   "execution_count": 101,
   "id": "f4c62319-27d9-4f5d-82c5-cb8be319b53b",
   "metadata": {},
   "outputs": [
    {
     "data": {
      "text/html": [
       "<div>\n",
       "<style scoped>\n",
       "    .dataframe tbody tr th:only-of-type {\n",
       "        vertical-align: middle;\n",
       "    }\n",
       "\n",
       "    .dataframe tbody tr th {\n",
       "        vertical-align: top;\n",
       "    }\n",
       "\n",
       "    .dataframe thead th {\n",
       "        text-align: right;\n",
       "    }\n",
       "</style>\n",
       "<table border=\"1\" class=\"dataframe\">\n",
       "  <thead>\n",
       "    <tr style=\"text-align: right;\">\n",
       "      <th></th>\n",
       "      <th>Name</th>\n",
       "      <th>Age</th>\n",
       "    </tr>\n",
       "  </thead>\n",
       "  <tbody>\n",
       "    <tr>\n",
       "      <th>0</th>\n",
       "      <td>mercy</td>\n",
       "      <td>22</td>\n",
       "    </tr>\n",
       "    <tr>\n",
       "      <th>1</th>\n",
       "      <td>Ben</td>\n",
       "      <td>21</td>\n",
       "    </tr>\n",
       "    <tr>\n",
       "      <th>2</th>\n",
       "      <td>Timothy</td>\n",
       "      <td>20</td>\n",
       "    </tr>\n",
       "  </tbody>\n",
       "</table>\n",
       "</div>"
      ],
      "text/plain": [
       "      Name  Age\n",
       "0    mercy   22\n",
       "1      Ben   21\n",
       "2  Timothy   20"
      ]
     },
     "execution_count": 101,
     "metadata": {},
     "output_type": "execute_result"
    }
   ],
   "source": [
    "df"
   ]
  },
  {
   "cell_type": "code",
   "execution_count": 103,
   "id": "ed47812d-a0e0-4391-b482-76f5f14e4b4e",
   "metadata": {},
   "outputs": [
    {
     "data": {
      "text/html": [
       "<div>\n",
       "<style scoped>\n",
       "    .dataframe tbody tr th:only-of-type {\n",
       "        vertical-align: middle;\n",
       "    }\n",
       "\n",
       "    .dataframe tbody tr th {\n",
       "        vertical-align: top;\n",
       "    }\n",
       "\n",
       "    .dataframe thead th {\n",
       "        text-align: right;\n",
       "    }\n",
       "</style>\n",
       "<table border=\"1\" class=\"dataframe\">\n",
       "  <thead>\n",
       "    <tr style=\"text-align: right;\">\n",
       "      <th></th>\n",
       "      <th>Name</th>\n",
       "      <th>Age</th>\n",
       "    </tr>\n",
       "  </thead>\n",
       "  <tbody>\n",
       "    <tr>\n",
       "      <th>0</th>\n",
       "      <td>mercy</td>\n",
       "      <td>22</td>\n",
       "    </tr>\n",
       "    <tr>\n",
       "      <th>1</th>\n",
       "      <td>Ben</td>\n",
       "      <td>21</td>\n",
       "    </tr>\n",
       "    <tr>\n",
       "      <th>2</th>\n",
       "      <td>Timothy</td>\n",
       "      <td>20</td>\n",
       "    </tr>\n",
       "  </tbody>\n",
       "</table>\n",
       "</div>"
      ],
      "text/plain": [
       "      Name  Age\n",
       "0    mercy   22\n",
       "1      Ben   21\n",
       "2  Timothy   20"
      ]
     },
     "execution_count": 103,
     "metadata": {},
     "output_type": "execute_result"
    }
   ],
   "source": [
    "df"
   ]
  },
  {
   "cell_type": "code",
   "execution_count": 109,
   "id": "bbb9fbcc-63f3-4571-b949-b265dfe8380f",
   "metadata": {},
   "outputs": [],
   "source": [
    "my_dict['Name']='John','Mary','Berry'"
   ]
  },
  {
   "cell_type": "code",
   "execution_count": 111,
   "id": "4145e6f4-9443-465d-ae5f-b7de29e646ff",
   "metadata": {},
   "outputs": [
    {
     "data": {
      "text/html": [
       "<div>\n",
       "<style scoped>\n",
       "    .dataframe tbody tr th:only-of-type {\n",
       "        vertical-align: middle;\n",
       "    }\n",
       "\n",
       "    .dataframe tbody tr th {\n",
       "        vertical-align: top;\n",
       "    }\n",
       "\n",
       "    .dataframe thead th {\n",
       "        text-align: right;\n",
       "    }\n",
       "</style>\n",
       "<table border=\"1\" class=\"dataframe\">\n",
       "  <thead>\n",
       "    <tr style=\"text-align: right;\">\n",
       "      <th></th>\n",
       "      <th>Name</th>\n",
       "      <th>Age</th>\n",
       "    </tr>\n",
       "  </thead>\n",
       "  <tbody>\n",
       "    <tr>\n",
       "      <th>0</th>\n",
       "      <td>mercy</td>\n",
       "      <td>22</td>\n",
       "    </tr>\n",
       "    <tr>\n",
       "      <th>1</th>\n",
       "      <td>Ben</td>\n",
       "      <td>21</td>\n",
       "    </tr>\n",
       "    <tr>\n",
       "      <th>2</th>\n",
       "      <td>Timothy</td>\n",
       "      <td>20</td>\n",
       "    </tr>\n",
       "  </tbody>\n",
       "</table>\n",
       "</div>"
      ],
      "text/plain": [
       "      Name  Age\n",
       "0    mercy   22\n",
       "1      Ben   21\n",
       "2  Timothy   20"
      ]
     },
     "execution_count": 111,
     "metadata": {},
     "output_type": "execute_result"
    }
   ],
   "source": [
    "df"
   ]
  },
  {
   "cell_type": "code",
   "execution_count": 113,
   "id": "6cae80f6-04ff-41cb-ace4-c659c74bfffb",
   "metadata": {},
   "outputs": [
    {
     "data": {
      "text/plain": [
       "{'name': 'John',\n",
       " 'age': 30,\n",
       " 'city': 'New York',\n",
       " 'Name': ('John', 'Mary', 'Berry')}"
      ]
     },
     "execution_count": 113,
     "metadata": {},
     "output_type": "execute_result"
    }
   ],
   "source": [
    "my_dict"
   ]
  },
  {
   "cell_type": "markdown",
   "id": "898acd9c-6872-469e-96c5-03d4a0b51718",
   "metadata": {},
   "source": [
    "Using the Pandas library, create a DataFrame from a dictionary where the keys are column names and the values are lists of column data."
   ]
  },
  {
   "cell_type": "code",
   "execution_count": 115,
   "id": "42b57e8b-853a-4e94-91e7-157ed3ee9997",
   "metadata": {},
   "outputs": [],
   "source": [
    "import pandas as pd"
   ]
  },
  {
   "cell_type": "code",
   "execution_count": 117,
   "id": "2c9e8ad0-dc94-45f8-84a6-77c68147dbc9",
   "metadata": {},
   "outputs": [],
   "source": [
    "my_dict={ \"Name\":['mercy','Ben','Timothy'],\n",
    "         \"Age\":[21,20,19]\n",
    "        }"
   ]
  },
  {
   "cell_type": "code",
   "execution_count": 119,
   "id": "a67437e8-cff8-45ed-9451-43af3b704354",
   "metadata": {},
   "outputs": [],
   "source": [
    "df=pd.DataFrame(my_dict)"
   ]
  },
  {
   "cell_type": "code",
   "execution_count": 121,
   "id": "2441bc67-54b2-40c7-9fdb-97fa93878a7a",
   "metadata": {},
   "outputs": [
    {
     "data": {
      "text/html": [
       "<div>\n",
       "<style scoped>\n",
       "    .dataframe tbody tr th:only-of-type {\n",
       "        vertical-align: middle;\n",
       "    }\n",
       "\n",
       "    .dataframe tbody tr th {\n",
       "        vertical-align: top;\n",
       "    }\n",
       "\n",
       "    .dataframe thead th {\n",
       "        text-align: right;\n",
       "    }\n",
       "</style>\n",
       "<table border=\"1\" class=\"dataframe\">\n",
       "  <thead>\n",
       "    <tr style=\"text-align: right;\">\n",
       "      <th></th>\n",
       "      <th>Name</th>\n",
       "      <th>Age</th>\n",
       "    </tr>\n",
       "  </thead>\n",
       "  <tbody>\n",
       "    <tr>\n",
       "      <th>0</th>\n",
       "      <td>mercy</td>\n",
       "      <td>21</td>\n",
       "    </tr>\n",
       "    <tr>\n",
       "      <th>1</th>\n",
       "      <td>Ben</td>\n",
       "      <td>20</td>\n",
       "    </tr>\n",
       "    <tr>\n",
       "      <th>2</th>\n",
       "      <td>Timothy</td>\n",
       "      <td>19</td>\n",
       "    </tr>\n",
       "  </tbody>\n",
       "</table>\n",
       "</div>"
      ],
      "text/plain": [
       "      Name  Age\n",
       "0    mercy   21\n",
       "1      Ben   20\n",
       "2  Timothy   19"
      ]
     },
     "execution_count": 121,
     "metadata": {},
     "output_type": "execute_result"
    }
   ],
   "source": [
    "df"
   ]
  },
  {
   "cell_type": "markdown",
   "id": "bb56a9c5-4970-4240-a2fc-67733486d39e",
   "metadata": {},
   "source": [
    "Write a program to add a new column to an existing DataFrame with data derived from the values in another column."
   ]
  },
  {
   "cell_type": "code",
   "execution_count": 129,
   "id": "b7a33c5d-1347-4829-9d23-8422f4e78c5c",
   "metadata": {},
   "outputs": [],
   "source": [
    "df['location']=['Nakuru','Kericho','Kisii']"
   ]
  },
  {
   "cell_type": "code",
   "execution_count": 133,
   "id": "c7fdb967-5db4-418a-a30e-b24bc71c7502",
   "metadata": {},
   "outputs": [
    {
     "data": {
      "text/plain": [
       "{'Name': ['mercy', 'Ben', 'Timothy'],\n",
       " 'Age': [21, 20, 19],\n",
       " 'location': ['Nakuru', 'Kericho', 'Kisii']}"
      ]
     },
     "execution_count": 133,
     "metadata": {},
     "output_type": "execute_result"
    }
   ],
   "source": [
    "my_dict"
   ]
  },
  {
   "cell_type": "code",
   "execution_count": 131,
   "id": "d863da0b-8dd1-43d5-8151-5752611f514e",
   "metadata": {},
   "outputs": [
    {
     "data": {
      "text/html": [
       "<div>\n",
       "<style scoped>\n",
       "    .dataframe tbody tr th:only-of-type {\n",
       "        vertical-align: middle;\n",
       "    }\n",
       "\n",
       "    .dataframe tbody tr th {\n",
       "        vertical-align: top;\n",
       "    }\n",
       "\n",
       "    .dataframe thead th {\n",
       "        text-align: right;\n",
       "    }\n",
       "</style>\n",
       "<table border=\"1\" class=\"dataframe\">\n",
       "  <thead>\n",
       "    <tr style=\"text-align: right;\">\n",
       "      <th></th>\n",
       "      <th>Name</th>\n",
       "      <th>Age</th>\n",
       "      <th>location</th>\n",
       "    </tr>\n",
       "  </thead>\n",
       "  <tbody>\n",
       "    <tr>\n",
       "      <th>0</th>\n",
       "      <td>mercy</td>\n",
       "      <td>21</td>\n",
       "      <td>Nakuru</td>\n",
       "    </tr>\n",
       "    <tr>\n",
       "      <th>1</th>\n",
       "      <td>Ben</td>\n",
       "      <td>20</td>\n",
       "      <td>Kericho</td>\n",
       "    </tr>\n",
       "    <tr>\n",
       "      <th>2</th>\n",
       "      <td>Timothy</td>\n",
       "      <td>19</td>\n",
       "      <td>Kisii</td>\n",
       "    </tr>\n",
       "  </tbody>\n",
       "</table>\n",
       "</div>"
      ],
      "text/plain": [
       "      Name  Age location\n",
       "0    mercy   21   Nakuru\n",
       "1      Ben   20  Kericho\n",
       "2  Timothy   19    Kisii"
      ]
     },
     "execution_count": 131,
     "metadata": {},
     "output_type": "execute_result"
    }
   ],
   "source": [
    "df"
   ]
  },
  {
   "cell_type": "markdown",
   "id": "ac7a0482-d586-4972-992d-e92c0cd90dbb",
   "metadata": {},
   "source": [
    "Demonstrate how to select a specific row and column in a DataFrame using both label-based and integer-based indexing."
   ]
  },
  {
   "cell_type": "code",
   "execution_count": 135,
   "id": "9f8bb9a6-dc71-49c8-89a7-98d77cfe1c7a",
   "metadata": {},
   "outputs": [],
   "source": [
    "selected=df['Name']"
   ]
  },
  {
   "cell_type": "code",
   "execution_count": 137,
   "id": "b901eaf1-a3d2-4e3e-a147-377985a2b7b5",
   "metadata": {},
   "outputs": [
    {
     "data": {
      "text/plain": [
       "0      mercy\n",
       "1        Ben\n",
       "2    Timothy\n",
       "Name: Name, dtype: object"
      ]
     },
     "execution_count": 137,
     "metadata": {},
     "output_type": "execute_result"
    }
   ],
   "source": [
    "selected"
   ]
  },
  {
   "cell_type": "code",
   "execution_count": 143,
   "id": "3a5e27d3-6cb2-49b8-8f7a-a30a595d1672",
   "metadata": {},
   "outputs": [
    {
     "data": {
      "text/html": [
       "<div>\n",
       "<style scoped>\n",
       "    .dataframe tbody tr th:only-of-type {\n",
       "        vertical-align: middle;\n",
       "    }\n",
       "\n",
       "    .dataframe tbody tr th {\n",
       "        vertical-align: top;\n",
       "    }\n",
       "\n",
       "    .dataframe thead th {\n",
       "        text-align: right;\n",
       "    }\n",
       "</style>\n",
       "<table border=\"1\" class=\"dataframe\">\n",
       "  <thead>\n",
       "    <tr style=\"text-align: right;\">\n",
       "      <th></th>\n",
       "      <th>Name</th>\n",
       "      <th>Age</th>\n",
       "      <th>location</th>\n",
       "    </tr>\n",
       "  </thead>\n",
       "  <tbody>\n",
       "    <tr>\n",
       "      <th>0</th>\n",
       "      <td>mercy</td>\n",
       "      <td>21</td>\n",
       "      <td>Nakuru</td>\n",
       "    </tr>\n",
       "    <tr>\n",
       "      <th>1</th>\n",
       "      <td>Ben</td>\n",
       "      <td>20</td>\n",
       "      <td>Kericho</td>\n",
       "    </tr>\n",
       "  </tbody>\n",
       "</table>\n",
       "</div>"
      ],
      "text/plain": [
       "    Name  Age location\n",
       "0  mercy   21   Nakuru\n",
       "1    Ben   20  Kericho"
      ]
     },
     "execution_count": 143,
     "metadata": {},
     "output_type": "execute_result"
    }
   ],
   "source": [
    "df.iloc[0:2]"
   ]
  },
  {
   "cell_type": "markdown",
   "id": "eccaba09-f92d-46fd-bfad-6e678fa28dbe",
   "metadata": {},
   "source": [
    "# Data Manipulation with Pandas\n",
    "Basic Operations:\n",
    "\n",
    "Write a Python program to load a CSV file into a DataFrame and display the first five rows."
   ]
  },
  {
   "cell_type": "code",
   "execution_count": 153,
   "id": "177ecb19-3c96-42d8-87cc-2a105c5aba18",
   "metadata": {},
   "outputs": [],
   "source": [
    "filepath='DataFile1/car_sales.csv'\n",
    "fd=pd.read_csv(filepath)"
   ]
  },
  {
   "cell_type": "code",
   "execution_count": 159,
   "id": "7435f9fa-2767-4686-b213-f39d1faa56ca",
   "metadata": {},
   "outputs": [
    {
     "data": {
      "text/html": [
       "<div>\n",
       "<style scoped>\n",
       "    .dataframe tbody tr th:only-of-type {\n",
       "        vertical-align: middle;\n",
       "    }\n",
       "\n",
       "    .dataframe tbody tr th {\n",
       "        vertical-align: top;\n",
       "    }\n",
       "\n",
       "    .dataframe thead th {\n",
       "        text-align: right;\n",
       "    }\n",
       "</style>\n",
       "<table border=\"1\" class=\"dataframe\">\n",
       "  <thead>\n",
       "    <tr style=\"text-align: right;\">\n",
       "      <th></th>\n",
       "      <th>Manufacturer</th>\n",
       "      <th>Model</th>\n",
       "      <th>Year</th>\n",
       "      <th>Sales</th>\n",
       "      <th>Revenue</th>\n",
       "    </tr>\n",
       "  </thead>\n",
       "  <tbody>\n",
       "    <tr>\n",
       "      <th>0</th>\n",
       "      <td>Toyota</td>\n",
       "      <td>Corolla</td>\n",
       "      <td>2021</td>\n",
       "      <td>1500.0</td>\n",
       "      <td>50000.0</td>\n",
       "    </tr>\n",
       "    <tr>\n",
       "      <th>1</th>\n",
       "      <td>Toyota</td>\n",
       "      <td>Camry</td>\n",
       "      <td>2022</td>\n",
       "      <td>2000.0</td>\n",
       "      <td>70000.0</td>\n",
       "    </tr>\n",
       "    <tr>\n",
       "      <th>2</th>\n",
       "      <td>Honda</td>\n",
       "      <td>Civic</td>\n",
       "      <td>2022</td>\n",
       "      <td>1800.0</td>\n",
       "      <td>60000.0</td>\n",
       "    </tr>\n",
       "    <tr>\n",
       "      <th>3</th>\n",
       "      <td>Honda</td>\n",
       "      <td>Accord</td>\n",
       "      <td>2021</td>\n",
       "      <td>1700.0</td>\n",
       "      <td>65000.0</td>\n",
       "    </tr>\n",
       "    <tr>\n",
       "      <th>4</th>\n",
       "      <td>Ford</td>\n",
       "      <td>Mustang</td>\n",
       "      <td>2023</td>\n",
       "      <td>2200.0</td>\n",
       "      <td>NaN</td>\n",
       "    </tr>\n",
       "  </tbody>\n",
       "</table>\n",
       "</div>"
      ],
      "text/plain": [
       "  Manufacturer    Model  Year   Sales  Revenue\n",
       "0       Toyota  Corolla  2021  1500.0  50000.0\n",
       "1       Toyota    Camry  2022  2000.0  70000.0\n",
       "2        Honda    Civic  2022  1800.0  60000.0\n",
       "3        Honda   Accord  2021  1700.0  65000.0\n",
       "4         Ford  Mustang  2023  2200.0      NaN"
      ]
     },
     "execution_count": 159,
     "metadata": {},
     "output_type": "execute_result"
    }
   ],
   "source": [
    "fd.head()"
   ]
  },
  {
   "cell_type": "markdown",
   "id": "06d375ea-bc8c-47c8-9e3b-012e35c542b7",
   "metadata": {},
   "source": [
    "How would you filter rows in a DataFrame based on a condition (e.g., select rows where the value in column 'Revenue' is greater than 65000)? Provide the code."
   ]
  },
  {
   "cell_type": "code",
   "execution_count": 167,
   "id": "e05c48e0-c9b9-46c4-b86a-05ebd45d07af",
   "metadata": {},
   "outputs": [],
   "source": [
    "filtered = fd[fd['Revenue'] > 65000]"
   ]
  },
  {
   "cell_type": "code",
   "execution_count": 169,
   "id": "dfb577fd-d67c-46bc-b751-cb3816a17e54",
   "metadata": {},
   "outputs": [
    {
     "data": {
      "text/html": [
       "<div>\n",
       "<style scoped>\n",
       "    .dataframe tbody tr th:only-of-type {\n",
       "        vertical-align: middle;\n",
       "    }\n",
       "\n",
       "    .dataframe tbody tr th {\n",
       "        vertical-align: top;\n",
       "    }\n",
       "\n",
       "    .dataframe thead th {\n",
       "        text-align: right;\n",
       "    }\n",
       "</style>\n",
       "<table border=\"1\" class=\"dataframe\">\n",
       "  <thead>\n",
       "    <tr style=\"text-align: right;\">\n",
       "      <th></th>\n",
       "      <th>Manufacturer</th>\n",
       "      <th>Model</th>\n",
       "      <th>Year</th>\n",
       "      <th>Sales</th>\n",
       "      <th>Revenue</th>\n",
       "    </tr>\n",
       "  </thead>\n",
       "  <tbody>\n",
       "    <tr>\n",
       "      <th>1</th>\n",
       "      <td>Toyota</td>\n",
       "      <td>Camry</td>\n",
       "      <td>2022</td>\n",
       "      <td>2000.0</td>\n",
       "      <td>70000.0</td>\n",
       "    </tr>\n",
       "    <tr>\n",
       "      <th>6</th>\n",
       "      <td>Chevrolet</td>\n",
       "      <td>Silverado</td>\n",
       "      <td>2022</td>\n",
       "      <td>1900.0</td>\n",
       "      <td>75000.0</td>\n",
       "    </tr>\n",
       "    <tr>\n",
       "      <th>8</th>\n",
       "      <td>Nissan</td>\n",
       "      <td>Altima</td>\n",
       "      <td>2022</td>\n",
       "      <td>2100.0</td>\n",
       "      <td>70000.0</td>\n",
       "    </tr>\n",
       "    <tr>\n",
       "      <th>9</th>\n",
       "      <td>Nissan</td>\n",
       "      <td>Sentra</td>\n",
       "      <td>2023</td>\n",
       "      <td>NaN</td>\n",
       "      <td>85000.0</td>\n",
       "    </tr>\n",
       "    <tr>\n",
       "      <th>12</th>\n",
       "      <td>Honda</td>\n",
       "      <td>CR-V</td>\n",
       "      <td>2023</td>\n",
       "      <td>2200.0</td>\n",
       "      <td>75000.0</td>\n",
       "    </tr>\n",
       "    <tr>\n",
       "      <th>14</th>\n",
       "      <td>Ford</td>\n",
       "      <td>Explorer</td>\n",
       "      <td>2022</td>\n",
       "      <td>2000.0</td>\n",
       "      <td>70000.0</td>\n",
       "    </tr>\n",
       "    <tr>\n",
       "      <th>15</th>\n",
       "      <td>Ford</td>\n",
       "      <td>Escape</td>\n",
       "      <td>2023</td>\n",
       "      <td>2100.0</td>\n",
       "      <td>75000.0</td>\n",
       "    </tr>\n",
       "    <tr>\n",
       "      <th>17</th>\n",
       "      <td>Chevrolet</td>\n",
       "      <td>Tahoe</td>\n",
       "      <td>2022</td>\n",
       "      <td>2200.0</td>\n",
       "      <td>80000.0</td>\n",
       "    </tr>\n",
       "    <tr>\n",
       "      <th>18</th>\n",
       "      <td>Nissan</td>\n",
       "      <td>Rogue</td>\n",
       "      <td>2023</td>\n",
       "      <td>2300.0</td>\n",
       "      <td>85000.0</td>\n",
       "    </tr>\n",
       "    <tr>\n",
       "      <th>20</th>\n",
       "      <td>Ford</td>\n",
       "      <td>Escape</td>\n",
       "      <td>2023</td>\n",
       "      <td>2100.0</td>\n",
       "      <td>75000.0</td>\n",
       "    </tr>\n",
       "    <tr>\n",
       "      <th>22</th>\n",
       "      <td>Chevrolet</td>\n",
       "      <td>Tahoe</td>\n",
       "      <td>2022</td>\n",
       "      <td>2200.0</td>\n",
       "      <td>80000.0</td>\n",
       "    </tr>\n",
       "    <tr>\n",
       "      <th>23</th>\n",
       "      <td>Nissan</td>\n",
       "      <td>Rogue</td>\n",
       "      <td>2023</td>\n",
       "      <td>2300.0</td>\n",
       "      <td>85000.0</td>\n",
       "    </tr>\n",
       "  </tbody>\n",
       "</table>\n",
       "</div>"
      ],
      "text/plain": [
       "   Manufacturer      Model  Year   Sales  Revenue\n",
       "1        Toyota      Camry  2022  2000.0  70000.0\n",
       "6     Chevrolet  Silverado  2022  1900.0  75000.0\n",
       "8        Nissan     Altima  2022  2100.0  70000.0\n",
       "9        Nissan     Sentra  2023     NaN  85000.0\n",
       "12        Honda       CR-V  2023  2200.0  75000.0\n",
       "14         Ford   Explorer  2022  2000.0  70000.0\n",
       "15         Ford     Escape  2023  2100.0  75000.0\n",
       "17    Chevrolet      Tahoe  2022  2200.0  80000.0\n",
       "18       Nissan      Rogue  2023  2300.0  85000.0\n",
       "20         Ford     Escape  2023  2100.0  75000.0\n",
       "22    Chevrolet      Tahoe  2022  2200.0  80000.0\n",
       "23       Nissan      Rogue  2023  2300.0  85000.0"
      ]
     },
     "execution_count": 169,
     "metadata": {},
     "output_type": "execute_result"
    }
   ],
   "source": [
    "filtered"
   ]
  },
  {
   "cell_type": "markdown",
   "id": "9d78cfd0-59f7-46a0-8701-411717cad458",
   "metadata": {},
   "source": [
    "# Data Transformation:\n",
    "\n",
    "Demonstrate how to rename columns in a DataFrame."
   ]
  },
  {
   "cell_type": "code",
   "execution_count": 182,
   "id": "c162bd47-3b5e-4143-917c-5781e002cb74",
   "metadata": {},
   "outputs": [],
   "source": [
    "fd_renamed = fd.rename(columns={'Manufacturer': 'Makers'})"
   ]
  },
  {
   "cell_type": "code",
   "execution_count": 184,
   "id": "4f6e409f-f854-4daa-84cc-f5298b1adb0c",
   "metadata": {},
   "outputs": [
    {
     "data": {
      "text/html": [
       "<div>\n",
       "<style scoped>\n",
       "    .dataframe tbody tr th:only-of-type {\n",
       "        vertical-align: middle;\n",
       "    }\n",
       "\n",
       "    .dataframe tbody tr th {\n",
       "        vertical-align: top;\n",
       "    }\n",
       "\n",
       "    .dataframe thead th {\n",
       "        text-align: right;\n",
       "    }\n",
       "</style>\n",
       "<table border=\"1\" class=\"dataframe\">\n",
       "  <thead>\n",
       "    <tr style=\"text-align: right;\">\n",
       "      <th></th>\n",
       "      <th>Makers</th>\n",
       "      <th>Model</th>\n",
       "      <th>Year</th>\n",
       "      <th>Sales</th>\n",
       "      <th>Revenue</th>\n",
       "    </tr>\n",
       "  </thead>\n",
       "  <tbody>\n",
       "    <tr>\n",
       "      <th>0</th>\n",
       "      <td>Toyota</td>\n",
       "      <td>Corolla</td>\n",
       "      <td>2021</td>\n",
       "      <td>1500.0</td>\n",
       "      <td>50000.0</td>\n",
       "    </tr>\n",
       "    <tr>\n",
       "      <th>1</th>\n",
       "      <td>Toyota</td>\n",
       "      <td>Camry</td>\n",
       "      <td>2022</td>\n",
       "      <td>2000.0</td>\n",
       "      <td>70000.0</td>\n",
       "    </tr>\n",
       "    <tr>\n",
       "      <th>2</th>\n",
       "      <td>Honda</td>\n",
       "      <td>Civic</td>\n",
       "      <td>2022</td>\n",
       "      <td>1800.0</td>\n",
       "      <td>60000.0</td>\n",
       "    </tr>\n",
       "    <tr>\n",
       "      <th>3</th>\n",
       "      <td>Honda</td>\n",
       "      <td>Accord</td>\n",
       "      <td>2021</td>\n",
       "      <td>1700.0</td>\n",
       "      <td>65000.0</td>\n",
       "    </tr>\n",
       "    <tr>\n",
       "      <th>4</th>\n",
       "      <td>Ford</td>\n",
       "      <td>Mustang</td>\n",
       "      <td>2023</td>\n",
       "      <td>2200.0</td>\n",
       "      <td>NaN</td>\n",
       "    </tr>\n",
       "    <tr>\n",
       "      <th>5</th>\n",
       "      <td>Ford</td>\n",
       "      <td>Fusion</td>\n",
       "      <td>2021</td>\n",
       "      <td>1600.0</td>\n",
       "      <td>55000.0</td>\n",
       "    </tr>\n",
       "    <tr>\n",
       "      <th>6</th>\n",
       "      <td>Chevrolet</td>\n",
       "      <td>Silverado</td>\n",
       "      <td>2022</td>\n",
       "      <td>1900.0</td>\n",
       "      <td>75000.0</td>\n",
       "    </tr>\n",
       "    <tr>\n",
       "      <th>7</th>\n",
       "      <td>NaN</td>\n",
       "      <td>Malibu</td>\n",
       "      <td>2021</td>\n",
       "      <td>1400.0</td>\n",
       "      <td>50000.0</td>\n",
       "    </tr>\n",
       "    <tr>\n",
       "      <th>8</th>\n",
       "      <td>Nissan</td>\n",
       "      <td>Altima</td>\n",
       "      <td>2022</td>\n",
       "      <td>2100.0</td>\n",
       "      <td>70000.0</td>\n",
       "    </tr>\n",
       "    <tr>\n",
       "      <th>9</th>\n",
       "      <td>Nissan</td>\n",
       "      <td>Sentra</td>\n",
       "      <td>2023</td>\n",
       "      <td>NaN</td>\n",
       "      <td>85000.0</td>\n",
       "    </tr>\n",
       "    <tr>\n",
       "      <th>10</th>\n",
       "      <td>Toyota</td>\n",
       "      <td>Prius</td>\n",
       "      <td>2021</td>\n",
       "      <td>1600.0</td>\n",
       "      <td>60000.0</td>\n",
       "    </tr>\n",
       "    <tr>\n",
       "      <th>11</th>\n",
       "      <td>Toyota</td>\n",
       "      <td>RAV4</td>\n",
       "      <td>2022</td>\n",
       "      <td>1900.0</td>\n",
       "      <td>65000.0</td>\n",
       "    </tr>\n",
       "    <tr>\n",
       "      <th>12</th>\n",
       "      <td>Honda</td>\n",
       "      <td>CR-V</td>\n",
       "      <td>2023</td>\n",
       "      <td>2200.0</td>\n",
       "      <td>75000.0</td>\n",
       "    </tr>\n",
       "    <tr>\n",
       "      <th>13</th>\n",
       "      <td>Honda</td>\n",
       "      <td>Pilot</td>\n",
       "      <td>2021</td>\n",
       "      <td>1500.0</td>\n",
       "      <td>55000.0</td>\n",
       "    </tr>\n",
       "    <tr>\n",
       "      <th>14</th>\n",
       "      <td>Ford</td>\n",
       "      <td>Explorer</td>\n",
       "      <td>2022</td>\n",
       "      <td>2000.0</td>\n",
       "      <td>70000.0</td>\n",
       "    </tr>\n",
       "    <tr>\n",
       "      <th>15</th>\n",
       "      <td>Ford</td>\n",
       "      <td>Escape</td>\n",
       "      <td>2023</td>\n",
       "      <td>2100.0</td>\n",
       "      <td>75000.0</td>\n",
       "    </tr>\n",
       "    <tr>\n",
       "      <th>16</th>\n",
       "      <td>Chevrolet</td>\n",
       "      <td>Equinox</td>\n",
       "      <td>2021</td>\n",
       "      <td>1700.0</td>\n",
       "      <td>60000.0</td>\n",
       "    </tr>\n",
       "    <tr>\n",
       "      <th>17</th>\n",
       "      <td>Chevrolet</td>\n",
       "      <td>Tahoe</td>\n",
       "      <td>2022</td>\n",
       "      <td>2200.0</td>\n",
       "      <td>80000.0</td>\n",
       "    </tr>\n",
       "    <tr>\n",
       "      <th>18</th>\n",
       "      <td>Nissan</td>\n",
       "      <td>Rogue</td>\n",
       "      <td>2023</td>\n",
       "      <td>2300.0</td>\n",
       "      <td>85000.0</td>\n",
       "    </tr>\n",
       "    <tr>\n",
       "      <th>19</th>\n",
       "      <td>Nissan</td>\n",
       "      <td>Murano</td>\n",
       "      <td>2021</td>\n",
       "      <td>1800.0</td>\n",
       "      <td>65000.0</td>\n",
       "    </tr>\n",
       "    <tr>\n",
       "      <th>20</th>\n",
       "      <td>Ford</td>\n",
       "      <td>Escape</td>\n",
       "      <td>2023</td>\n",
       "      <td>2100.0</td>\n",
       "      <td>75000.0</td>\n",
       "    </tr>\n",
       "    <tr>\n",
       "      <th>21</th>\n",
       "      <td>Chevrolet</td>\n",
       "      <td>Equinox</td>\n",
       "      <td>2021</td>\n",
       "      <td>1700.0</td>\n",
       "      <td>60000.0</td>\n",
       "    </tr>\n",
       "    <tr>\n",
       "      <th>22</th>\n",
       "      <td>Chevrolet</td>\n",
       "      <td>Tahoe</td>\n",
       "      <td>2022</td>\n",
       "      <td>2200.0</td>\n",
       "      <td>80000.0</td>\n",
       "    </tr>\n",
       "    <tr>\n",
       "      <th>23</th>\n",
       "      <td>Nissan</td>\n",
       "      <td>Rogue</td>\n",
       "      <td>2023</td>\n",
       "      <td>2300.0</td>\n",
       "      <td>85000.0</td>\n",
       "    </tr>\n",
       "    <tr>\n",
       "      <th>24</th>\n",
       "      <td>Nissan</td>\n",
       "      <td>Murano</td>\n",
       "      <td>2021</td>\n",
       "      <td>1800.0</td>\n",
       "      <td>65000.0</td>\n",
       "    </tr>\n",
       "  </tbody>\n",
       "</table>\n",
       "</div>"
      ],
      "text/plain": [
       "       Makers      Model  Year   Sales  Revenue\n",
       "0      Toyota    Corolla  2021  1500.0  50000.0\n",
       "1      Toyota      Camry  2022  2000.0  70000.0\n",
       "2       Honda      Civic  2022  1800.0  60000.0\n",
       "3       Honda     Accord  2021  1700.0  65000.0\n",
       "4        Ford    Mustang  2023  2200.0      NaN\n",
       "5        Ford     Fusion  2021  1600.0  55000.0\n",
       "6   Chevrolet  Silverado  2022  1900.0  75000.0\n",
       "7         NaN     Malibu  2021  1400.0  50000.0\n",
       "8      Nissan     Altima  2022  2100.0  70000.0\n",
       "9      Nissan     Sentra  2023     NaN  85000.0\n",
       "10     Toyota      Prius  2021  1600.0  60000.0\n",
       "11     Toyota       RAV4  2022  1900.0  65000.0\n",
       "12      Honda       CR-V  2023  2200.0  75000.0\n",
       "13      Honda      Pilot  2021  1500.0  55000.0\n",
       "14       Ford   Explorer  2022  2000.0  70000.0\n",
       "15       Ford     Escape  2023  2100.0  75000.0\n",
       "16  Chevrolet    Equinox  2021  1700.0  60000.0\n",
       "17  Chevrolet      Tahoe  2022  2200.0  80000.0\n",
       "18     Nissan      Rogue  2023  2300.0  85000.0\n",
       "19     Nissan     Murano  2021  1800.0  65000.0\n",
       "20       Ford     Escape  2023  2100.0  75000.0\n",
       "21  Chevrolet    Equinox  2021  1700.0  60000.0\n",
       "22  Chevrolet      Tahoe  2022  2200.0  80000.0\n",
       "23     Nissan      Rogue  2023  2300.0  85000.0\n",
       "24     Nissan     Murano  2021  1800.0  65000.0"
      ]
     },
     "execution_count": 184,
     "metadata": {},
     "output_type": "execute_result"
    }
   ],
   "source": [
    "fd_renamed"
   ]
  },
  {
   "cell_type": "markdown",
   "id": "e8830ca4-16d2-46eb-ad65-bae5e8051d06",
   "metadata": {},
   "source": [
    "Write a program to group data in a DataFrame by a specific column and calculate the mean of each group."
   ]
  },
  {
   "cell_type": "code",
   "execution_count": 186,
   "id": "f054ab88-2d84-47a8-be96-90b30fd50d70",
   "metadata": {},
   "outputs": [],
   "source": [
    "grouped_fd = fd.groupby('Revenue')['Sales'].mean()"
   ]
  },
  {
   "cell_type": "code",
   "execution_count": 188,
   "id": "022ea448-27b0-455d-a306-a9d6d5b84b3d",
   "metadata": {},
   "outputs": [
    {
     "data": {
      "text/plain": [
       "Revenue\n",
       "50000.0    1450.000000\n",
       "55000.0    1550.000000\n",
       "60000.0    1700.000000\n",
       "65000.0    1800.000000\n",
       "70000.0    2033.333333\n",
       "75000.0    2075.000000\n",
       "80000.0    2200.000000\n",
       "85000.0    2300.000000\n",
       "Name: Sales, dtype: float64"
      ]
     },
     "execution_count": 188,
     "metadata": {},
     "output_type": "execute_result"
    }
   ],
   "source": [
    "grouped_fd"
   ]
  },
  {
   "cell_type": "markdown",
   "id": "b21ba607-0edb-4bf3-b21e-931c6f512d87",
   "metadata": {},
   "source": [
    "# Merging and Joining:\n",
    "\n",
    "Write a program to merge two DataFrames on a common column."
   ]
  },
  {
   "cell_type": "code",
   "execution_count": 191,
   "id": "4f970a52-3a6a-445e-99cb-678e123a655f",
   "metadata": {},
   "outputs": [
    {
     "name": "stdout",
     "output_type": "stream",
     "text": [
      "DataFrame 1:\n",
      "   ID     Name  Age\n",
      "0   1    Alice   25\n",
      "1   2      Bob   30\n",
      "2   3  Charlie   35\n",
      "3   4    David   40\n",
      "\n",
      "DataFrame 2:\n",
      "   ID         City  Salary\n",
      "0   3     New York   70000\n",
      "1   4  Los Angeles   80000\n",
      "2   5      Chicago   90000\n",
      "3   6      Houston  100000\n"
     ]
    }
   ],
   "source": [
    "import pandas as pd\n",
    "\n",
    "# Creating the first sample DataFrame\n",
    "data1 = {\n",
    "    'ID': [1, 2, 3, 4],\n",
    "    'Name': ['Alice', 'Bob', 'Charlie', 'David'],\n",
    "    'Age': [25, 30, 35, 40]\n",
    "}\n",
    "\n",
    "df1 = pd.DataFrame(data1)\n",
    "\n",
    "# Creating the second sample DataFrame\n",
    "data2 = {\n",
    "    'ID': [3, 4, 5, 6],\n",
    "    'City': ['New York', 'Los Angeles', 'Chicago', 'Houston'],\n",
    "    'Salary': [70000, 80000, 90000, 100000]\n",
    "}\n",
    "\n",
    "df2 = pd.DataFrame(data2)\n",
    "\n",
    "# Displaying the original DataFrames\n",
    "print(\"DataFrame 1:\")\n",
    "print(df1)\n",
    "\n",
    "print(\"\\nDataFrame 2:\")\n",
    "print(df2)\n"
   ]
  },
  {
   "cell_type": "code",
   "execution_count": 193,
   "id": "987787cb-3692-41ce-9d92-7bf9a22f149b",
   "metadata": {},
   "outputs": [
    {
     "name": "stdout",
     "output_type": "stream",
     "text": [
      "\n",
      "Merged DataFrame (inner join):\n",
      "   ID     Name  Age         City  Salary\n",
      "0   3  Charlie   35     New York   70000\n",
      "1   4    David   40  Los Angeles   80000\n"
     ]
    }
   ],
   "source": [
    "# Merging the two DataFrames on the 'ID' column\n",
    "merged_df = pd.merge(df1, df2, on='ID', how='inner')\n",
    "\n",
    "# Displaying the merged DataFrame\n",
    "print(\"\\nMerged DataFrame (inner join):\")\n",
    "print(merged_df)\n"
   ]
  },
  {
   "cell_type": "markdown",
   "id": "704dd292-508f-44a3-8e45-e922b29c492a",
   "metadata": {},
   "source": [
    "Demonstrate how to perform a left join on two DataFrames."
   ]
  },
  {
   "cell_type": "code",
   "execution_count": 195,
   "id": "0105ee13-90eb-467d-82ab-c0a393832599",
   "metadata": {},
   "outputs": [
    {
     "name": "stdout",
     "output_type": "stream",
     "text": [
      "\n",
      "Left Join DataFrame:\n",
      "   ID     Name  Age         City   Salary\n",
      "0   1    Alice   25          NaN      NaN\n",
      "1   2      Bob   30          NaN      NaN\n",
      "2   3  Charlie   35     New York  70000.0\n",
      "3   4    David   40  Los Angeles  80000.0\n"
     ]
    }
   ],
   "source": [
    "# Performing a left join on the 'ID' column\n",
    "left_join_df = pd.merge(df1, df2, on='ID', how='left')\n",
    "\n",
    "# Displaying the DataFrame after the left join\n",
    "print(\"\\nLeft Join DataFrame:\")\n",
    "print(left_join_df)\n"
   ]
  },
  {
   "cell_type": "code",
   "execution_count": null,
   "id": "8cd70eb6-a971-4c3f-893c-cd8c1c5f0f93",
   "metadata": {},
   "outputs": [],
   "source": []
  }
 ],
 "metadata": {
  "kernelspec": {
   "display_name": "Python 3 (ipykernel)",
   "language": "python",
   "name": "python3"
  },
  "language_info": {
   "codemirror_mode": {
    "name": "ipython",
    "version": 3
   },
   "file_extension": ".py",
   "mimetype": "text/x-python",
   "name": "python",
   "nbconvert_exporter": "python",
   "pygments_lexer": "ipython3",
   "version": "3.12.4"
  }
 },
 "nbformat": 4,
 "nbformat_minor": 5
}
